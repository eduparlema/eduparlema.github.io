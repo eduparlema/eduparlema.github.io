{
 "cells": [
  {
   "cell_type": "raw",
   "id": "6900646c-bfc2-4b81-bb08-d1ed51e0df79",
   "metadata": {},
   "source": [
    "---\n",
    "title: Learning from Dr. Timnit Gebru \n",
    "author: Eduardo Pareja Lema\n",
    "date: '2023-04-19'\n",
    "image: \"TimnitGebru.png\" \n",
    "description: \"A reflective blog post on Dr. Timnit Gebru's talk at Middlebury\"\n",
    "format: html \n",
    "--- "
   ]
  },
  {
   "attachments": {},
   "cell_type": "markdown",
   "id": "ddddb862",
   "metadata": {},
   "source": [
    "# Overview \n",
    "\n",
    "On April 24th, 20203, Dr. Timnit Gebru is virtually visiting our Machine Learning class where she will share her outstanding work on biases in image recognition. Later this day, Dr. Gebru is giving a talk to the Middlebury College campus on \"Eugenics and the Promise of Utopia thourhg Artificial General Intelligence.\" Dr. Timnit Gebru is a leading computer scientist focused on the study of artificial intelligence, algorithmic bias, and ethics in technology. She is an advocate for diversity and inclusion in the tech industry and her work on the ethical implications of AI has been particularly influential. She has recently been named on of Fortune's 50 Greatest Leaders and one of Time's 100 for 2022. Moreover, she is the founder and executive director of the Distributed Artificial Intelligence Research Institue (DAIR) whose mission is to ensure that the deployment of AI include diverse perspectives. "
   ]
  },
  {
   "attachments": {},
   "cell_type": "markdown",
   "id": "83307757",
   "metadata": {},
   "source": [
    "## Dr. Gebru's talk at FATE in Computer Vision \n",
    "\n",
    "During her talk as part of a Tutorial on Fairness, Accountability, Transparency, and Ethics (FATE) in Computer Vision, Dr. Gebru raised a couple of very interesting points. She started the talk by providing some example of how computer vision can have negative impacts. For instance, if face recognition were to be used to assess a candidate's personal traits for a job, there could be a glitch that only highlights negative behavior in individuals. The worrying thing is that if we do not regularize these things and these kind of software is used worldwide, some people could potentially get rejected from every single job they apply to. Dr. Gebru highlights the following quote: \n",
    "\n",
    "***<p style=\"text-align: center;\">\"Every data set involving people implies subjects and objects, those who collect and those who make up the collected. It is imperative to remember that on both sides we have human beings.\" (Mimi Onuoha, Data & Society)</p>***\n",
    "\n",
    "Dr. Gebru raises the concern of the lack of diversity in datasets. However, she claims that this is not an AI-specific problem, instead this occurs in many areas, like drug-testing or crash-test dummies. Even though this is concerning in itself, this is not the biggest problem. Including more diverse datasets is not the solution, as Dr. Gebru says, \"Visibility is not inclusion.\" We cannot ignore social and structural problems. Making something fair is not just about making something work equally well for everybody. We must ask ourselves, \"why do we need these technologies?\". \"Why do we need gender classifiers?\". \"Couldn't these be used for advertising targeted to a gender we believe might consume a product?\". \"Wouldn't this perpetuate gender stereotypes?\"\n",
    "\n",
    "All in all, what everyone must understand about computer vision these days is that the racial problems present in this field only mirror our societal problems. Making data more diverse does not fix the problem, in fact, it kinda of overlooks the problem of working towards a solution to our societal and structural problems. \n",
    "\n",
    "\n"
   ]
  },
  {
   "attachments": {},
   "cell_type": "markdown",
   "id": "89f523c7",
   "metadata": {},
   "source": [
    "## Question for Dr. Gebru\n",
    "\n",
    "It seems that evolving AI is not only skewed towards the creator's world views but also to overpower those who lack the skills, do you think that making the development of AI more accesible to people would diminish the negative impacts of this disruptive field? "
   ]
  },
  {
   "cell_type": "markdown",
   "id": "76fa8127",
   "metadata": {},
   "source": []
  }
 ],
 "metadata": {
  "kernelspec": {
   "display_name": "Python [conda env:ml-0451] *",
   "language": "python",
   "name": "conda-env-ml-0451-py"
  },
  "language_info": {
   "codemirror_mode": {
    "name": "ipython",
    "version": 3
   },
   "file_extension": ".py",
   "mimetype": "text/x-python",
   "name": "python",
   "nbconvert_exporter": "python",
   "pygments_lexer": "ipython3",
   "version": "3.9.16"
  }
 },
 "nbformat": 4,
 "nbformat_minor": 5
}
