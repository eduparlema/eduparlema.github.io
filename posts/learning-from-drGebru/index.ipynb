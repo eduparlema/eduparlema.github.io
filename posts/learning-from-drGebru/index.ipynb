{
 "cells": [
  {
   "cell_type": "raw",
   "id": "6900646c-bfc2-4b81-bb08-d1ed51e0df79",
   "metadata": {},
   "source": [
    "---\n",
    "title: Learning from Dr. Timnit Gebru \n",
    "author: Eduardo Pareja Lema\n",
    "date: '2023-04-19'\n",
    "image: \"TimnitGebru.png\" \n",
    "description: \"A blog post on linear regression and some experiments involving modifications like the LASSO Regularization\"\n",
    "format: html \n",
    "--- \n"
   ]
  }
 ],
 "metadata": {
  "kernelspec": {
   "display_name": "Python [conda env:ml-0451] *",
   "language": "python",
   "name": "conda-env-ml-0451-py"
  },
  "language_info": {
   "codemirror_mode": {
    "name": "ipython",
    "version": 3
   },
   "file_extension": ".py",
   "mimetype": "text/x-python",
   "name": "python",
   "nbconvert_exporter": "python",
   "pygments_lexer": "ipython3",
   "version": "3.9.16"
  }
 },
 "nbformat": 4,
 "nbformat_minor": 5
}
